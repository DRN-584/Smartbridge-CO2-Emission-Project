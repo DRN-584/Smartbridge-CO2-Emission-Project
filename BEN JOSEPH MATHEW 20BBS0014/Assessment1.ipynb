{
 "cells": [
  {
   "cell_type": "raw",
   "id": "617c945f",
   "metadata": {},
   "source": [
    "# BEN MATHEW ASSESSMENT 1\n",
    "1. Assign your Name to variable name and Age to variable age. Make a Python program that prints your name and age."
   ]
  },
  {
   "cell_type": "code",
   "execution_count": 1,
   "id": "157365e5",
   "metadata": {},
   "outputs": [
    {
     "name": "stdout",
     "output_type": "stream",
     "text": [
      "Ben Mathew 20\n"
     ]
    }
   ],
   "source": [
    "name = 'Ben Mathew'\n",
    "age = 20\n",
    "print(name, age)"
   ]
  },
  {
   "cell_type": "raw",
   "id": "21cefa78",
   "metadata": {},
   "source": [
    "2. X=\"Datascience is used to extract meaningful insights.\" Split the string."
   ]
  },
  {
   "cell_type": "code",
   "execution_count": 2,
   "id": "b3917b10",
   "metadata": {},
   "outputs": [
    {
     "name": "stdout",
     "output_type": "stream",
     "text": [
      "['Datascience', 'is', 'used', 'to', 'extract', 'meaningful', 'insights.']\n"
     ]
    }
   ],
   "source": [
    "X = 'Datascience is used to extract meaningful insights.'\n",
    "print(X.split())"
   ]
  },
  {
   "cell_type": "raw",
   "id": "fd04e5df",
   "metadata": {},
   "source": [
    "3. Make a function that gives multiplication of two numbers."
   ]
  },
  {
   "cell_type": "code",
   "execution_count": 6,
   "id": "5a297068",
   "metadata": {},
   "outputs": [
    {
     "name": "stdout",
     "output_type": "stream",
     "text": [
      "Enter a: 3\n",
      "Enter b: 4\n",
      "The product = 12\n"
     ]
    }
   ],
   "source": [
    "def multiply_two_numbers(a, b):\n",
    "    return a * b\n",
    "\n",
    "a = int(input('Enter a: '))\n",
    "b = int(input('Enter b: '))\n",
    "print('The product =', multiply_two_numbers(a, b))"
   ]
  },
  {
   "cell_type": "raw",
   "id": "17d030be",
   "metadata": {},
   "source": [
    "4. Create a Dictionary of 5 States with their capitals. also print the keys and values."
   ]
  },
  {
   "cell_type": "code",
   "execution_count": 9,
   "id": "5b08cf88",
   "metadata": {},
   "outputs": [
    {
     "name": "stdout",
     "output_type": "stream",
     "text": [
      "Indian States:\n",
      "Maharashtra\n",
      "Karnataka\n",
      "Tamil Nadu\n",
      "Uttar Pradesh\n",
      "Gujarat\n",
      "\n",
      "Capitals:\n",
      "Mumbai\n",
      "Bengaluru\n",
      "Chennai\n",
      "Lucknow\n",
      "Gandhinagar\n"
     ]
    }
   ],
   "source": [
    "indian_states_capitals = {\n",
    "    'Maharashtra': 'Mumbai',\n",
    "    'Karnataka': 'Bengaluru',\n",
    "    'Tamil Nadu': 'Chennai',\n",
    "    'Uttar Pradesh': 'Lucknow',\n",
    "    'Gujarat': 'Gandhinagar'\n",
    "}\n",
    "\n",
    "# Print the keys\n",
    "print(\"Indian States:\")\n",
    "for state in indian_states_capitals.keys():\n",
    "    print(state)\n",
    "\n",
    "# Print the values\n",
    "print(\"\\nCapitals:\")\n",
    "for capital in indian_states_capitals.values():\n",
    "    print(capital)"
   ]
  },
  {
   "cell_type": "raw",
   "id": "14312144",
   "metadata": {},
   "source": [
    "5. Create a list of 1000 numbers using range function."
   ]
  },
  {
   "cell_type": "code",
   "execution_count": 12,
   "id": "303cb0a0",
   "metadata": {},
   "outputs": [
    {
     "data": {
      "text/plain": [
       "999"
      ]
     },
     "execution_count": 12,
     "metadata": {},
     "output_type": "execute_result"
    }
   ],
   "source": [
    "list = range(1000)\n",
    "list[999]"
   ]
  },
  {
   "cell_type": "raw",
   "id": "3767e54f",
   "metadata": {},
   "source": [
    "6. Create an identity matrix of dimension 4 by 4."
   ]
  },
  {
   "cell_type": "code",
   "execution_count": 1,
   "id": "a66b8bcb",
   "metadata": {},
   "outputs": [
    {
     "name": "stdout",
     "output_type": "stream",
     "text": [
      "[[1. 0. 0. 0.]\n",
      " [0. 1. 0. 0.]\n",
      " [0. 0. 1. 0.]\n",
      " [0. 0. 0. 1.]]\n"
     ]
    }
   ],
   "source": [
    "import numpy as np\n",
    "\n",
    "identity_matrix = np.eye(4)\n",
    "print(identity_matrix)"
   ]
  },
  {
   "cell_type": "raw",
   "id": "b5e1f027",
   "metadata": {},
   "source": [
    "7. Create a 3x3 matrix with values ranging from 1 to 9."
   ]
  },
  {
   "cell_type": "code",
   "execution_count": 2,
   "id": "61cbc278",
   "metadata": {},
   "outputs": [
    {
     "name": "stdout",
     "output_type": "stream",
     "text": [
      "[[1 2 3]\n",
      " [4 5 6]\n",
      " [7 8 9]]\n"
     ]
    }
   ],
   "source": [
    "import numpy as np\n",
    "\n",
    "matrix = np.arange(1, 10).reshape(3, 3)\n",
    "print(matrix)"
   ]
  },
  {
   "cell_type": "raw",
   "id": "a080b5a0",
   "metadata": {},
   "source": [
    "8. Create 2 similar dimensional arrays and perform a sum on them."
   ]
  },
  {
   "cell_type": "code",
   "execution_count": 4,
   "id": "28068d88",
   "metadata": {},
   "outputs": [
    {
     "name": "stdout",
     "output_type": "stream",
     "text": [
      "[[ 6  8]\n",
      " [10 12]]\n"
     ]
    }
   ],
   "source": [
    "import numpy as np\n",
    "\n",
    "array1 = np.array([[1, 2], [3, 4]])\n",
    "array2 = np.array([[5, 6], [7, 8]])\n",
    "\n",
    "sum_array = array1 + array2\n",
    "print(sum_array)"
   ]
  },
  {
   "cell_type": "raw",
   "id": "21a11897",
   "metadata": {},
   "source": [
    "9. Generate the series of dates from 1st Feb 2023 to 1st March 2023 (both inclusive)."
   ]
  },
  {
   "cell_type": "code",
   "execution_count": 6,
   "id": "d0854a1c",
   "metadata": {},
   "outputs": [
    {
     "name": "stdout",
     "output_type": "stream",
     "text": [
      "DatetimeIndex(['2023-02-01', '2023-02-02', '2023-02-03', '2023-02-04',\n",
      "               '2023-02-05', '2023-02-06', '2023-02-07', '2023-02-08',\n",
      "               '2023-02-09', '2023-02-10', '2023-02-11', '2023-02-12',\n",
      "               '2023-02-13', '2023-02-14', '2023-02-15', '2023-02-16',\n",
      "               '2023-02-17', '2023-02-18', '2023-02-19', '2023-02-20',\n",
      "               '2023-02-21', '2023-02-22', '2023-02-23', '2023-02-24',\n",
      "               '2023-02-25', '2023-02-26', '2023-02-27', '2023-02-28'],\n",
      "              dtype='datetime64[ns]', freq='D')\n"
     ]
    }
   ],
   "source": [
    "import pandas as pd\n",
    "\n",
    "date_range = pd.date_range(start='2023-02-01', end='2023-03-01', inclusive='left')\n",
    "print(date_range)"
   ]
  },
  {
   "cell_type": "raw",
   "id": "31653a58",
   "metadata": {},
   "source": [
    "10. Given a dictionary, convert it into the corresponding dataframe and display it."
   ]
  },
  {
   "cell_type": "code",
   "execution_count": 8,
   "id": "4dcff502",
   "metadata": {},
   "outputs": [
    {
     "name": "stdout",
     "output_type": "stream",
     "text": [
      "     Brand  Sales\n",
      "0   Maruti    250\n",
      "1  Renault    200\n",
      "2  Hyundai    240\n"
     ]
    }
   ],
   "source": [
    "import pandas as pd\n",
    "\n",
    "dictionary = {'Brand': ['Maruti', 'Renault', 'Hyundai'], 'Sales': [250, 200, 240]}\n",
    "df = pd.DataFrame(dictionary)\n",
    "print(df)"
   ]
  },
  {
   "cell_type": "code",
   "execution_count": null,
   "id": "90a89384",
   "metadata": {},
   "outputs": [],
   "source": []
  }
 ],
 "metadata": {
  "kernelspec": {
   "display_name": "Python 3 (ipykernel)",
   "language": "python",
   "name": "python3"
  },
  "language_info": {
   "codemirror_mode": {
    "name": "ipython",
    "version": 3
   },
   "file_extension": ".py",
   "mimetype": "text/x-python",
   "name": "python",
   "nbconvert_exporter": "python",
   "pygments_lexer": "ipython3",
   "version": "3.9.13"
  }
 },
 "nbformat": 4,
 "nbformat_minor": 5
}
